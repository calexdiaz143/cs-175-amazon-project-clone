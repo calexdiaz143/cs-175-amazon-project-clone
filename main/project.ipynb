{
 "cells": [
  {
   "cell_type": "markdown",
   "metadata": {},
   "source": [
    "# Load data and classifiers"
   ]
  },
  {
   "cell_type": "code",
   "execution_count": 1,
   "metadata": {
    "collapsed": true
   },
   "outputs": [],
   "source": [
    "from main import *\n",
    "LOAD_SAVED = True\n",
    "OVERWRITE_SAVED = False\n",
    "train_X, train_Y, test_X, test_Y, summary_cv, review_cv = memo.get_data(LOAD_SAVED, OVERWRITE_SAVED, CATEGORIES, 0.75, 1000)\n",
    "clf_nb = memo.get_classifier(LOAD_SAVED, OVERWRITE_SAVED, trainer.naive_bayes, train_X, train_Y, 'clf_nb')\n",
    "clf_lr = memo.get_classifier(LOAD_SAVED, OVERWRITE_SAVED, trainer.logistic_regression, train_X, train_Y, 'clf_lr')\n",
    "clf_svm = memo.get_classifier(LOAD_SAVED, OVERWRITE_SAVED, trainer.svm, train_X, train_Y, 'clf_svm')"
   ]
  },
  {
   "cell_type": "markdown",
   "metadata": {},
   "source": [
    "# Predict"
   ]
  },
  {
   "cell_type": "markdown",
   "metadata": {},
   "source": [
    "## Naive Bayes"
   ]
  },
  {
   "cell_type": "code",
   "execution_count": 2,
   "metadata": {
    "collapsed": true
   },
   "outputs": [],
   "source": [
    "test_prd_nb = clf_nb.predict(test_X)\n",
    "test_err_nb = tester.error_ratio(test_Y, test_prd_nb)\n",
    "train_prd_nb = clf_nb.predict(train_X)\n",
    "train_err_nb = tester.error_ratio(train_Y, train_prd_nb)"
   ]
  },
  {
   "cell_type": "markdown",
   "metadata": {},
   "source": [
    "## Logistic Regression"
   ]
  },
  {
   "cell_type": "code",
   "execution_count": 3,
   "metadata": {
    "collapsed": true
   },
   "outputs": [],
   "source": [
    "test_prd_lr = clf_lr.predict(test_X)\n",
    "test_err_lr = tester.error_ratio(test_Y, test_prd_lr)\n",
    "train_prd_lr = clf_lr.predict(train_X)\n",
    "train_err_lr = tester.error_ratio(train_Y, train_prd_lr)"
   ]
  },
  {
   "cell_type": "markdown",
   "metadata": {},
   "source": [
    "## SVM"
   ]
  },
  {
   "cell_type": "code",
   "execution_count": 4,
   "metadata": {},
   "outputs": [],
   "source": [
    "#test_prd_svm = clf_svm.predict(test_X)\n",
    "#test_err_svm = tester.error_ratio(test_Y, test_prd_svm)\n",
    "#train_prd_svm = clf_svm.predict(train_X)\n",
    "#train_err_svm = tester.error_ratio(train_Y, train_prd_svm)"
   ]
  },
  {
   "cell_type": "markdown",
   "metadata": {},
   "source": [
    "## Ensemble"
   ]
  },
  {
   "cell_type": "code",
   "execution_count": 10,
   "metadata": {
    "collapsed": true
   },
   "outputs": [],
   "source": [
    "test_predictions = [test_prd_nb, test_prd_lr]\n",
    "test_prd_ensemble = tester.predict_ensemble(test_X, test_predictions)\n",
    "test_err_ensemble = tester.error_ratio(test_Y, test_prd_ensemble)\n",
    "\n",
    "train_predictions = [train_prd_nb, train_prd_lr]\n",
    "train_prd_ensemble = tester.predict_ensemble(train_X, train_predictions)\n",
    "train_err_ensemble = tester.error_ratio(train_Y, train_prd_ensemble)"
   ]
  },
  {
   "cell_type": "markdown",
   "metadata": {},
   "source": [
    "# Results"
   ]
  },
  {
   "cell_type": "code",
   "execution_count": 11,
   "metadata": {},
   "outputs": [
    {
     "name": "stdout",
     "output_type": "stream",
     "text": [
      "Naive Bayes Testing Error:          0.32121513944223107\n",
      "Logistic Regression Testing Error:  0.175464807436919\n",
      "Ensemble Testing Error:             0.32121513944223107\n"
     ]
    }
   ],
   "source": [
    "print(\"Naive Bayes Testing Error:         \",test_err_nb)\n",
    "print(\"Logistic Regression Testing Error: \",test_err_lr)\n",
    "print(\"Ensemble Testing Error:            \",test_err_ensemble)"
   ]
  },
  {
   "cell_type": "code",
   "execution_count": null,
   "metadata": {
    "collapsed": true
   },
   "outputs": [],
   "source": []
  }
 ],
 "metadata": {
  "kernelspec": {
   "display_name": "Python 3",
   "language": "python",
   "name": "python3"
  },
  "language_info": {
   "codemirror_mode": {
    "name": "ipython",
    "version": 3
   },
   "file_extension": ".py",
   "mimetype": "text/x-python",
   "name": "python",
   "nbconvert_exporter": "python",
   "pygments_lexer": "ipython3",
   "version": "3.6.3"
  }
 },
 "nbformat": 4,
 "nbformat_minor": 2
}
